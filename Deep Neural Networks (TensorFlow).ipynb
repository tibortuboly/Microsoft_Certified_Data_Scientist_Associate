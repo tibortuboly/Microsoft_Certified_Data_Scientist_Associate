{
 "cells": [
  {
   "cell_type": "markdown",
   "metadata": {},
   "source": [
    "# Deep Learning with TensorFlow\n",
    "\n",
    "Classical machine learning relies on using statistics to determine relationships between features and labels, and can be very effective for creating predictive models. However, a massive growth in the availability of data coupled with advances in the computing technology required to process it has led to the emergence of new machine learning techniques that mimic the way the brain processes information in a structure called an artificial neural network.\n",
    "\n",
    "TensorFlow is a framework for creating machine learning models, including deep neural networks (DNNs). In this example, we'll use Tensorflow to create a simple neural network that classifies penguins into species based on the length and depth of their culmen (bill), their flipper length, and their body mass.\n",
    "\n",
    "> **Citation**: The penguins dataset used in the this exercise is a subset of data collected and made available by [Dr. Kristen\n",
    "Gorman](https://www.uaf.edu/cfos/people/faculty/detail/kristen-gorman.php)\n",
    "and the [Palmer Station, Antarctica LTER](https://pal.lternet.edu/), a\n",
    "member of the [Long Term Ecological Research\n",
    "Network](https://lternet.edu/).\n",
    "\n",
    "## Explore the dataset\n",
    "\n",
    "Before we start using TensorFlow to create a model, let's load the data we need from the Palmer Islands penguins dataset, which contains observations of three different species of penguin.\n",
    "\n",
    "> **Note**: In reality, you can solve the penguin classification problem easily using classical machine learning techniques without the need for a deep learning model; but it's a useful, easy to understand dataset with which to demonstrate the principles of neural networks in this notebook."
   ]
  },
  {
   "cell_type": "code",
   "execution_count": 1,
   "metadata": {},
   "outputs": [
    {
     "name": "stderr",
     "output_type": "stream",
     "text": [
      "C:\\Users\\tutsrr\\AppData\\Local\\Temp\\ipykernel_15408\\2070975810.py:15: FutureWarning: The frame.append method is deprecated and will be removed from pandas in a future version. Use pandas.concat instead.\n",
      "  penguins = penguins.append(penguins)\n",
      "C:\\Users\\tutsrr\\AppData\\Local\\Temp\\ipykernel_15408\\2070975810.py:15: FutureWarning: The frame.append method is deprecated and will be removed from pandas in a future version. Use pandas.concat instead.\n",
      "  penguins = penguins.append(penguins)\n"
     ]
    },
    {
     "data": {
      "text/html": [
       "<div>\n",
       "<style scoped>\n",
       "    .dataframe tbody tr th:only-of-type {\n",
       "        vertical-align: middle;\n",
       "    }\n",
       "\n",
       "    .dataframe tbody tr th {\n",
       "        vertical-align: top;\n",
       "    }\n",
       "\n",
       "    .dataframe thead th {\n",
       "        text-align: right;\n",
       "    }\n",
       "</style>\n",
       "<table border=\"1\" class=\"dataframe\">\n",
       "  <thead>\n",
       "    <tr style=\"text-align: right;\">\n",
       "      <th></th>\n",
       "      <th>CulmenLength</th>\n",
       "      <th>CulmenDepth</th>\n",
       "      <th>FlipperLength</th>\n",
       "      <th>BodyMass</th>\n",
       "      <th>Species</th>\n",
       "    </tr>\n",
       "  </thead>\n",
       "  <tbody>\n",
       "    <tr>\n",
       "      <th>245</th>\n",
       "      <td>49.5</td>\n",
       "      <td>16.1</td>\n",
       "      <td>22.4</td>\n",
       "      <td>56.50</td>\n",
       "      <td>1</td>\n",
       "    </tr>\n",
       "    <tr>\n",
       "      <th>50</th>\n",
       "      <td>39.6</td>\n",
       "      <td>17.7</td>\n",
       "      <td>18.6</td>\n",
       "      <td>35.00</td>\n",
       "      <td>0</td>\n",
       "    </tr>\n",
       "    <tr>\n",
       "      <th>255</th>\n",
       "      <td>49.1</td>\n",
       "      <td>15.0</td>\n",
       "      <td>22.8</td>\n",
       "      <td>55.00</td>\n",
       "      <td>1</td>\n",
       "    </tr>\n",
       "    <tr>\n",
       "      <th>144</th>\n",
       "      <td>37.3</td>\n",
       "      <td>16.8</td>\n",
       "      <td>19.2</td>\n",
       "      <td>30.00</td>\n",
       "      <td>0</td>\n",
       "    </tr>\n",
       "    <tr>\n",
       "      <th>96</th>\n",
       "      <td>38.1</td>\n",
       "      <td>18.6</td>\n",
       "      <td>19.0</td>\n",
       "      <td>37.00</td>\n",
       "      <td>0</td>\n",
       "    </tr>\n",
       "    <tr>\n",
       "      <th>60</th>\n",
       "      <td>35.7</td>\n",
       "      <td>16.9</td>\n",
       "      <td>18.5</td>\n",
       "      <td>31.50</td>\n",
       "      <td>0</td>\n",
       "    </tr>\n",
       "    <tr>\n",
       "      <th>269</th>\n",
       "      <td>48.8</td>\n",
       "      <td>16.2</td>\n",
       "      <td>22.2</td>\n",
       "      <td>60.00</td>\n",
       "      <td>1</td>\n",
       "    </tr>\n",
       "    <tr>\n",
       "      <th>202</th>\n",
       "      <td>46.6</td>\n",
       "      <td>14.2</td>\n",
       "      <td>21.0</td>\n",
       "      <td>48.50</td>\n",
       "      <td>1</td>\n",
       "    </tr>\n",
       "    <tr>\n",
       "      <th>130</th>\n",
       "      <td>38.5</td>\n",
       "      <td>17.9</td>\n",
       "      <td>19.0</td>\n",
       "      <td>33.25</td>\n",
       "      <td>0</td>\n",
       "    </tr>\n",
       "    <tr>\n",
       "      <th>215</th>\n",
       "      <td>54.3</td>\n",
       "      <td>15.7</td>\n",
       "      <td>23.1</td>\n",
       "      <td>56.50</td>\n",
       "      <td>1</td>\n",
       "    </tr>\n",
       "  </tbody>\n",
       "</table>\n",
       "</div>"
      ],
      "text/plain": [
       "     CulmenLength  CulmenDepth  FlipperLength  BodyMass  Species\n",
       "245          49.5         16.1           22.4     56.50        1\n",
       "50           39.6         17.7           18.6     35.00        0\n",
       "255          49.1         15.0           22.8     55.00        1\n",
       "144          37.3         16.8           19.2     30.00        0\n",
       "96           38.1         18.6           19.0     37.00        0\n",
       "60           35.7         16.9           18.5     31.50        0\n",
       "269          48.8         16.2           22.2     60.00        1\n",
       "202          46.6         14.2           21.0     48.50        1\n",
       "130          38.5         17.9           19.0     33.25        0\n",
       "215          54.3         15.7           23.1     56.50        1"
      ]
     },
     "execution_count": 1,
     "metadata": {},
     "output_type": "execute_result"
    }
   ],
   "source": [
    "import pandas as pd\n",
    "\n",
    "# load the training dataset (excluding rows with null values)\n",
    "penguins = pd.read_csv('penguins.csv').dropna()\n",
    "\n",
    "# Deep Learning models work best when features are on similar scales\n",
    "# In a real solution, we'd implement some custom normalization for each feature, but to keep things simple\n",
    "# we'll just rescale the FlipperLength and BodyMass so they're on a similar scale to the bill measurements\n",
    "penguins['FlipperLength'] = penguins['FlipperLength']/10\n",
    "penguins['BodyMass'] = penguins['BodyMass']/100\n",
    "\n",
    "# The dataset is too small to be useful for deep learning\n",
    "# So we'll oversample it to increase its size\n",
    "for i in range(1,3):\n",
    "    penguins = penguins.append(penguins)\n",
    "\n",
    "# Display a random sample of 10 observations\n",
    "sample = penguins.sample(10)\n",
    "sample"
   ]
  },
  {
   "cell_type": "markdown",
   "metadata": {},
   "source": [
    "The **Species** column is the label our model will predict. Each label value represents a class of penguin species, encoded as 0, 1, or 2. The following code shows the actual species to which these class labels corrrespond."
   ]
  },
  {
   "cell_type": "code",
   "execution_count": 2,
   "metadata": {
    "tags": []
   },
   "outputs": [
    {
     "name": "stdout",
     "output_type": "stream",
     "text": [
      "['CulmenLength' 'CulmenDepth' 'FlipperLength' 'BodyMass' 'Species'] SpeciesName\n",
      "[ 38.1 18.6 19.0 37.0 0 ] Adelie\n",
      "[ 46.5 14.8 21.7 52.0 1 ] Gentoo\n",
      "[ 36.5 16.6 18.1 28.5 0 ] Adelie\n",
      "[ 51.5 16.3 23.0 55.0 1 ] Gentoo\n",
      "[ 43.2 14.5 20.8 44.5 1 ] Gentoo\n",
      "[ 39.6 18.8 19.0 46.0 0 ] Adelie\n",
      "[ 37.8 20.0 19.0 42.5 0 ] Adelie\n",
      "[ 45.2 13.8 21.5 47.5 1 ] Gentoo\n",
      "[ 48.6 16.0 23.0 58.0 1 ] Gentoo\n",
      "[ 41.1 19.1 18.8 41.0 0 ] Adelie\n"
     ]
    }
   ],
   "source": [
    "penguin_classes = ['Adelie', 'Gentoo', 'Chinstrap']\n",
    "print(sample.columns[0:5].values, 'SpeciesName')\n",
    "for index, row in penguins.sample(10).iterrows():\n",
    "    print('[',row[0], row[1], row[2],row[3], int(row[4]), ']',penguin_classes[int(row[-1])])"
   ]
  },
  {
   "cell_type": "markdown",
   "metadata": {},
   "source": [
    "As is common in a supervised learning problem, we'll split the dataset into a set of records with which to train the model, and a smaller set with which to validate the trained model."
   ]
  },
  {
   "cell_type": "code",
   "execution_count": 3,
   "metadata": {
    "tags": []
   },
   "outputs": [
    {
     "name": "stdout",
     "output_type": "stream",
     "text": [
      "Training Set: 957, Test Set: 411 \n",
      "\n",
      "Sample of features and labels:\n",
      "[51.1 16.5 22.5 52.5] 1 (Gentoo)\n",
      "[50.7 19.7 20.3 40.5] 2 (Chinstrap)\n",
      "[49.5 16.2 22.9 58. ] 1 (Gentoo)\n",
      "[39.3 20.6 19.  36.5] 0 (Adelie)\n",
      "[42.5 20.7 19.7 45. ] 0 (Adelie)\n",
      "[50.  15.3 22.  55.5] 1 (Gentoo)\n",
      "[50.2  18.7  19.8  37.75] 2 (Chinstrap)\n",
      "[50.7 19.7 20.3 40.5] 2 (Chinstrap)\n",
      "[49.1  14.5  21.2  46.25] 1 (Gentoo)\n",
      "[43.2 16.6 18.7 29. ] 2 (Chinstrap)\n",
      "[38.8  17.6  19.1  32.75] 0 (Adelie)\n",
      "[37.8 17.1 18.6 33. ] 0 (Adelie)\n",
      "[45.8 14.2 21.9 47. ] 1 (Gentoo)\n",
      "[43.8 13.9 20.8 43. ] 1 (Gentoo)\n",
      "[36.  17.1 18.7 37. ] 0 (Adelie)\n",
      "[43.3 13.4 20.9 44. ] 1 (Gentoo)\n",
      "[36.  18.5 18.6 31. ] 0 (Adelie)\n",
      "[41.1  19.   18.2  34.25] 0 (Adelie)\n",
      "[33.1 16.1 17.8 29. ] 0 (Adelie)\n",
      "[40.9 13.7 21.4 46.5] 1 (Gentoo)\n",
      "[45.2 17.8 19.8 39.5] 2 (Chinstrap)\n",
      "[48.4 14.6 21.3 58.5] 1 (Gentoo)\n",
      "[43.6 13.9 21.7 49. ] 1 (Gentoo)\n",
      "[38.5  17.9  19.   33.25] 0 (Adelie)\n"
     ]
    }
   ],
   "source": [
    "from sklearn.model_selection import train_test_split\n",
    "\n",
    "features = ['CulmenLength','CulmenDepth','FlipperLength','BodyMass']\n",
    "label = 'Species'\n",
    "   \n",
    "# Split data 70%-30% into training set and test set\n",
    "x_train, x_test, y_train, y_test = train_test_split(penguins[features].values,\n",
    "                                                    penguins[label].values,\n",
    "                                                    test_size=0.30,\n",
    "                                                    random_state=0)\n",
    "\n",
    "print ('Training Set: %d, Test Set: %d \\n' % (len(x_train), len(x_test)))\n",
    "print(\"Sample of features and labels:\")\n",
    "\n",
    "# Take a look at the first 25 training features and corresponding labels\n",
    "for n in range(0,24):\n",
    "    print(x_train[n], y_train[n], '(' + penguin_classes[y_train[n]] + ')')"
   ]
  },
  {
   "cell_type": "markdown",
   "metadata": {},
   "source": [
    "The *features* are the measurements for each penguin observation, and the *label* is a numeric value that indicates the species of penguin that the observation represents (Adelie, Gentoo, or Chinstrap).\n",
    "\n",
    "## Install and import TensorFlow libraries\n",
    "\n",
    "Since we plan to use TensorFlow to create our penguin classifier, we'll need to run the following two cells to install and import the libraries we intend to use.\n",
    "\n",
    "> **Note** *Keras* is an abstraction layer over the base TensorFlow API. In most common machine learning scenarios, you can use Keras to simplify your code."
   ]
  },
  {
   "cell_type": "code",
   "execution_count": null,
   "metadata": {},
   "outputs": [],
   "source": []
  },
  {
   "cell_type": "code",
   "execution_count": 4,
   "metadata": {
    "tags": []
   },
   "outputs": [
    {
     "name": "stdout",
     "output_type": "stream",
     "text": [
      "Libraries imported.\n",
      "Keras version: 2.12.0\n",
      "TensorFlow version: 2.12.0-rc0\n"
     ]
    }
   ],
   "source": [
    "import tensorflow\n",
    "from tensorflow import keras\n",
    "from tensorflow.keras import models\n",
    "from tensorflow.keras.models import Sequential\n",
    "from tensorflow.keras.layers import Dense\n",
    "from tensorflow.keras import utils\n",
    "from tensorflow.keras import optimizers\n",
    "\n",
    "# Set random seed for reproducability\n",
    "tensorflow.random.set_seed(0)\n",
    "\n",
    "print(\"Libraries imported.\")\n",
    "print('Keras version:',keras.__version__)\n",
    "print('TensorFlow version:',tensorflow.__version__)"
   ]
  },
  {
   "cell_type": "markdown",
   "metadata": {},
   "source": [
    "## Prepare the data for TensorFlow\n",
    "\n",
    "We've already loaded our data and split it into training and validation datasets. However, we need to do some further data preparation so that our data will work correctly with TensorFlow. Specifically, we need to set the data type of our features to 32-bit floating point numbers, and specify that the labels represent categorical classes rather than numeric values."
   ]
  },
  {
   "cell_type": "code",
   "execution_count": 5,
   "metadata": {
    "tags": []
   },
   "outputs": [
    {
     "name": "stdout",
     "output_type": "stream",
     "text": [
      "Ready...\n"
     ]
    }
   ],
   "source": [
    "# Set data types for float features\n",
    "x_train = x_train.astype('float32')\n",
    "x_test = x_test.astype('float32')\n",
    "\n",
    "# Set data types for categorical labels\n",
    "y_train = utils.to_categorical(y_train)\n",
    "y_test = utils.to_categorical(y_test)\n",
    "print('Ready...')"
   ]
  },
  {
   "cell_type": "markdown",
   "metadata": {},
   "source": [
    "## Define a neural network\n",
    "\n",
    "Now we're ready to define our neural network. In this case, we'll create a network that consists of 3 fully-connected layers:\n",
    "* An input layer that receives an input value for each feature (in this case, the four penguin measurements) and applies a *ReLU* activation function.\n",
    "* A hidden layer that receives ten inputs and applies a *ReLU* activation function.\n",
    "* An output layer that uses a *SoftMax* activation function to generate an output for each penguin species (which represent the classification probabilities for each of the three possible penguin species). Softmax functions produce a vector with probability values that sum to 1."
   ]
  },
  {
   "cell_type": "code",
   "execution_count": 6,
   "metadata": {
    "tags": []
   },
   "outputs": [
    {
     "name": "stdout",
     "output_type": "stream",
     "text": [
      "Model: \"sequential\"\n",
      "_________________________________________________________________\n",
      " Layer (type)                Output Shape              Param #   \n",
      "=================================================================\n",
      " dense (Dense)               (None, 10)                50        \n",
      "                                                                 \n",
      " dense_1 (Dense)             (None, 10)                110       \n",
      "                                                                 \n",
      " dense_2 (Dense)             (None, 3)                 33        \n",
      "                                                                 \n",
      "=================================================================\n",
      "Total params: 193\n",
      "Trainable params: 193\n",
      "Non-trainable params: 0\n",
      "_________________________________________________________________\n",
      "None\n"
     ]
    }
   ],
   "source": [
    "# Define a classifier network\n",
    "hl = 10 # Number of hidden layer nodes\n",
    "\n",
    "model = Sequential()\n",
    "model.add(Dense(hl, input_dim=len(features), activation='relu'))\n",
    "model.add(Dense(hl, input_dim=hl, activation='relu'))\n",
    "model.add(Dense(len(penguin_classes), input_dim=hl, activation='softmax'))\n",
    "\n",
    "print(model.summary())"
   ]
  },
  {
   "cell_type": "markdown",
   "metadata": {},
   "source": [
    "## Train the model\n",
    "\n",
    "To train the model, we need to repeatedly feed the training values forward through the network, use a loss function to calculate the loss, use an optimizer to backpropagate the weight and bias value adjustments, and validate the model using the test data we withheld.\n",
    "\n",
    "To do this, we'll apply an Adam optimizer to a categorical cross-entropy loss function iteratively over 50 epochs."
   ]
  },
  {
   "cell_type": "code",
   "execution_count": 7,
   "metadata": {
    "scrolled": true,
    "tags": []
   },
   "outputs": [
    {
     "name": "stderr",
     "output_type": "stream",
     "text": [
      "WARNING:absl:`lr` is deprecated in Keras optimizer, please use `learning_rate` or use the legacy optimizer, e.g.,tf.keras.optimizers.legacy.Adam.\n"
     ]
    },
    {
     "name": "stdout",
     "output_type": "stream",
     "text": [
      "Epoch 1/50\n",
      "96/96 [==============================] - 1s 3ms/step - loss: 1.9923 - accuracy: 0.5235 - val_loss: 0.8315 - val_accuracy: 0.7226\n",
      "Epoch 2/50\n",
      "96/96 [==============================] - 0s 1ms/step - loss: 0.7936 - accuracy: 0.8098 - val_loss: 0.7613 - val_accuracy: 0.8467\n",
      "Epoch 3/50\n",
      "96/96 [==============================] - 0s 1ms/step - loss: 0.7223 - accuracy: 0.8307 - val_loss: 0.6996 - val_accuracy: 0.9367\n",
      "Epoch 4/50\n",
      "96/96 [==============================] - 0s 1ms/step - loss: 0.6353 - accuracy: 0.8694 - val_loss: 0.6012 - val_accuracy: 0.9611\n",
      "Epoch 5/50\n",
      "96/96 [==============================] - 0s 1ms/step - loss: 0.5382 - accuracy: 0.9519 - val_loss: 0.5096 - val_accuracy: 0.9002\n",
      "Epoch 6/50\n",
      "96/96 [==============================] - 0s 1ms/step - loss: 0.4570 - accuracy: 0.9509 - val_loss: 0.4235 - val_accuracy: 0.9562\n",
      "Epoch 7/50\n",
      "96/96 [==============================] - 0s 1ms/step - loss: 0.3806 - accuracy: 0.9592 - val_loss: 0.3535 - val_accuracy: 0.9489\n",
      "Epoch 8/50\n",
      "96/96 [==============================] - 0s 1ms/step - loss: 0.3125 - accuracy: 0.9697 - val_loss: 0.2909 - val_accuracy: 0.9781\n",
      "Epoch 9/50\n",
      "96/96 [==============================] - 0s 1ms/step - loss: 0.2653 - accuracy: 0.9760 - val_loss: 0.2437 - val_accuracy: 0.9878\n",
      "Epoch 10/50\n",
      "96/96 [==============================] - 0s 1ms/step - loss: 0.2240 - accuracy: 0.9739 - val_loss: 0.2076 - val_accuracy: 0.9878\n",
      "Epoch 11/50\n",
      "96/96 [==============================] - 0s 1ms/step - loss: 0.1945 - accuracy: 0.9801 - val_loss: 0.1796 - val_accuracy: 0.9781\n",
      "Epoch 12/50\n",
      "96/96 [==============================] - 0s 1ms/step - loss: 0.1661 - accuracy: 0.9812 - val_loss: 0.1629 - val_accuracy: 0.9878\n",
      "Epoch 13/50\n",
      "96/96 [==============================] - 0s 1ms/step - loss: 0.1417 - accuracy: 0.9843 - val_loss: 0.1385 - val_accuracy: 0.9903\n",
      "Epoch 14/50\n",
      "96/96 [==============================] - 0s 1ms/step - loss: 0.1274 - accuracy: 0.9854 - val_loss: 0.1243 - val_accuracy: 0.9878\n",
      "Epoch 15/50\n",
      "96/96 [==============================] - 0s 1ms/step - loss: 0.1156 - accuracy: 0.9833 - val_loss: 0.1205 - val_accuracy: 0.9757\n",
      "Epoch 16/50\n",
      "96/96 [==============================] - 0s 1ms/step - loss: 0.1070 - accuracy: 0.9843 - val_loss: 0.1020 - val_accuracy: 0.9903\n",
      "Epoch 17/50\n",
      "96/96 [==============================] - 0s 1ms/step - loss: 0.0957 - accuracy: 0.9833 - val_loss: 0.0978 - val_accuracy: 0.9757\n",
      "Epoch 18/50\n",
      "96/96 [==============================] - 0s 1ms/step - loss: 0.0904 - accuracy: 0.9885 - val_loss: 0.0942 - val_accuracy: 0.9757\n",
      "Epoch 19/50\n",
      "96/96 [==============================] - 0s 1ms/step - loss: 0.0842 - accuracy: 0.9833 - val_loss: 0.0915 - val_accuracy: 0.9757\n",
      "Epoch 20/50\n",
      "96/96 [==============================] - 0s 1ms/step - loss: 0.0774 - accuracy: 0.9885 - val_loss: 0.0941 - val_accuracy: 0.9659\n",
      "Epoch 21/50\n",
      "96/96 [==============================] - 0s 1ms/step - loss: 0.0715 - accuracy: 0.9854 - val_loss: 0.0720 - val_accuracy: 0.9903\n",
      "Epoch 22/50\n",
      "96/96 [==============================] - 0s 1ms/step - loss: 0.0666 - accuracy: 0.9875 - val_loss: 0.0916 - val_accuracy: 0.9635\n",
      "Epoch 23/50\n",
      "96/96 [==============================] - 0s 1ms/step - loss: 0.0676 - accuracy: 0.9843 - val_loss: 0.0773 - val_accuracy: 0.9732\n",
      "Epoch 24/50\n",
      "96/96 [==============================] - 0s 1ms/step - loss: 0.0587 - accuracy: 0.9916 - val_loss: 0.0592 - val_accuracy: 0.9927\n",
      "Epoch 25/50\n",
      "96/96 [==============================] - 0s 2ms/step - loss: 0.0573 - accuracy: 0.9906 - val_loss: 0.0612 - val_accuracy: 0.9927\n",
      "Epoch 26/50\n",
      "96/96 [==============================] - 0s 2ms/step - loss: 0.0591 - accuracy: 0.9854 - val_loss: 0.0533 - val_accuracy: 0.9951\n",
      "Epoch 27/50\n",
      "96/96 [==============================] - 0s 1ms/step - loss: 0.0508 - accuracy: 0.9896 - val_loss: 0.0504 - val_accuracy: 0.9951\n",
      "Epoch 28/50\n",
      "96/96 [==============================] - 0s 1ms/step - loss: 0.0491 - accuracy: 0.9948 - val_loss: 0.0566 - val_accuracy: 0.9927\n",
      "Epoch 29/50\n",
      "96/96 [==============================] - 0s 2ms/step - loss: 0.0468 - accuracy: 0.9875 - val_loss: 0.0478 - val_accuracy: 0.9951\n",
      "Epoch 30/50\n",
      "96/96 [==============================] - 0s 2ms/step - loss: 0.0437 - accuracy: 0.9948 - val_loss: 0.0529 - val_accuracy: 0.9805\n",
      "Epoch 31/50\n",
      "96/96 [==============================] - 0s 2ms/step - loss: 0.0508 - accuracy: 0.9864 - val_loss: 0.0468 - val_accuracy: 0.9927\n",
      "Epoch 32/50\n",
      "96/96 [==============================] - 0s 2ms/step - loss: 0.0433 - accuracy: 0.9875 - val_loss: 0.0488 - val_accuracy: 0.9805\n",
      "Epoch 33/50\n",
      "96/96 [==============================] - 0s 1ms/step - loss: 0.0426 - accuracy: 0.9906 - val_loss: 0.0408 - val_accuracy: 0.9976\n",
      "Epoch 34/50\n",
      "96/96 [==============================] - 0s 1ms/step - loss: 0.0421 - accuracy: 0.9937 - val_loss: 0.0760 - val_accuracy: 0.9586\n",
      "Epoch 35/50\n",
      "96/96 [==============================] - 0s 1ms/step - loss: 0.0357 - accuracy: 0.9948 - val_loss: 0.0384 - val_accuracy: 0.9976\n",
      "Epoch 36/50\n",
      "96/96 [==============================] - 0s 1ms/step - loss: 0.0366 - accuracy: 0.9906 - val_loss: 0.0374 - val_accuracy: 0.9951\n",
      "Epoch 37/50\n",
      "96/96 [==============================] - 0s 2ms/step - loss: 0.0354 - accuracy: 0.9916 - val_loss: 0.0352 - val_accuracy: 0.9951\n",
      "Epoch 38/50\n",
      "96/96 [==============================] - 0s 1ms/step - loss: 0.0345 - accuracy: 0.9948 - val_loss: 0.0341 - val_accuracy: 0.9976\n",
      "Epoch 39/50\n",
      "96/96 [==============================] - 0s 2ms/step - loss: 0.0351 - accuracy: 0.9927 - val_loss: 0.0403 - val_accuracy: 0.9878\n",
      "Epoch 40/50\n",
      "96/96 [==============================] - 0s 2ms/step - loss: 0.0405 - accuracy: 0.9822 - val_loss: 0.0385 - val_accuracy: 0.9878\n",
      "Epoch 41/50\n",
      "96/96 [==============================] - 0s 2ms/step - loss: 0.0319 - accuracy: 0.9916 - val_loss: 0.0315 - val_accuracy: 0.9951\n",
      "Epoch 42/50\n",
      "96/96 [==============================] - 0s 2ms/step - loss: 0.0373 - accuracy: 0.9864 - val_loss: 0.0318 - val_accuracy: 0.9951\n",
      "Epoch 43/50\n",
      "96/96 [==============================] - 0s 2ms/step - loss: 0.0334 - accuracy: 0.9906 - val_loss: 0.0292 - val_accuracy: 0.9976\n",
      "Epoch 44/50\n",
      "96/96 [==============================] - 0s 2ms/step - loss: 0.0331 - accuracy: 0.9906 - val_loss: 0.0375 - val_accuracy: 0.9878\n",
      "Epoch 45/50\n",
      "96/96 [==============================] - 0s 2ms/step - loss: 0.0297 - accuracy: 0.9948 - val_loss: 0.0292 - val_accuracy: 0.9951\n",
      "Epoch 46/50\n",
      "96/96 [==============================] - 0s 1ms/step - loss: 0.0269 - accuracy: 0.9958 - val_loss: 0.0271 - val_accuracy: 0.9951\n",
      "Epoch 47/50\n",
      "96/96 [==============================] - 0s 2ms/step - loss: 0.0339 - accuracy: 0.9885 - val_loss: 0.0284 - val_accuracy: 0.9927\n",
      "Epoch 48/50\n",
      "96/96 [==============================] - 0s 2ms/step - loss: 0.0284 - accuracy: 0.9937 - val_loss: 0.0389 - val_accuracy: 0.9878\n",
      "Epoch 49/50\n",
      "96/96 [==============================] - 0s 2ms/step - loss: 0.0250 - accuracy: 0.9948 - val_loss: 0.0366 - val_accuracy: 0.9878\n",
      "Epoch 50/50\n",
      "96/96 [==============================] - 0s 2ms/step - loss: 0.0253 - accuracy: 0.9927 - val_loss: 0.0357 - val_accuracy: 0.9878\n"
     ]
    }
   ],
   "source": [
    "#hyper-parameters for optimizer\n",
    "learning_rate = 0.001\n",
    "opt = optimizers.Adam(lr=learning_rate)\n",
    "\n",
    "model.compile(loss='categorical_crossentropy',\n",
    "              optimizer=opt,\n",
    "              metrics=['accuracy'])\n",
    "\n",
    "# Train the model over 50 epochs using 10-observation batches and using the test holdout dataset for validation\n",
    "num_epochs = 50\n",
    "history = model.fit(x_train, y_train, epochs=num_epochs, batch_size=10, validation_data=(x_test, y_test))"
   ]
  },
  {
   "cell_type": "markdown",
   "metadata": {},
   "source": [
    "While the training process is running, let's try to understand what's happening:\n",
    "\n",
    "1. In each *epoch*, the full set of training data is passed forward through the network. There are four features for each observation, and four corresponding nodes in the input layer - so the features for each observation are passed as a vector of four values to that layer. However, for efficiency, the feature vectors are grouped into batches; so actually a matrix of multiple feature vectors is fed in each time.\n",
    "2. The matrix of feature values is processed by a function that performs a weighted sum using initialized weights and bias values. The result of this function is then processed by the activation function for the input layer to constrain the values passed to the nodes in the next layer.\n",
    "3. The weighted sum and activation functions are repeated in each layer. Note that the functions operate on vectors and matrices rather than individual scalar values. In other words, the forward pass is essentially a series of nested linear algebra functions. This is the reason data scientists prefer to use computers with graphical processing units (GPUs), since these are optimized for matrix and vector calculations.\n",
    "4. In the final layer of the network, the output vectors contain a probability value for each possible class (in this case, classes 0, 1, and 2). This vector is processed by a *loss function* to determine how far the values calculated by the network are from the actual values - so for example, suppose the output for a Gentoo penguin (class 1) observation is \\[0.3, 0.4, 0.3\\]. The correct prediction should be \\[0.0, 1.0, 0.0\\], so the variance between the predicted and actual values (how far away the each predicted value is from what it should be) is \\[0.3, 0.6, 0.3\\]. This variance is aggregated for each batch and maintained as a running aggregate to calculate the overall level of error (*loss*) incurred by the training data for the epoch. The accuracy (proportion of correct predictions based on the highest probability value in the output vector) for the training data is also calculated.\n",
    "5. At the end of each epoch, the validation data is passed through the network, and its loss and accuracy are also calculated. It's important to do this because it enables us to compare the performance of the model using data on which it was not trained, helping us determine if it will generalize well for new data or if it's *overfitted* to the training data.\n",
    "6. After all the data has been passed forward through the network, the output of the loss function for the *training* data (but <u>not</u> the *validation* data) is passed to the opimizer. The precise details of how the optimizer processes the loss vary depending on the specific optimization algorithm being used; but fundamentally you can think of the entire network, from the input layer to the loss function as being one big nested (*composite*) function. The optimizer applies some differential calculus to calculate *partial derivatives* for the function with respect to each weight and bias value that was used in the network. It's possible to do this efficiently for a nested function due to something called the *chain rule*, which enables you to determine the derivative of a composite function from the derivatives of its inner function and outer functions. You don't really need to worry about the details of the math here (the optimizer does it for you), but the end result is that the partial derivatives tell us about the slope (or *gradient*) of the loss function with respect to each weight and bias value - in other words, we can determine whether to increase or decrease the weight and bias values in order to decrease the loss.\n",
    "7. Having determined in which direction to adjust the weights and biases, the optimizer uses the *learning rate* to determine by how much to adjust them; and then works backwards through the network in a process called *backpropagation* to assign new values to the weights and biases in each layer.\n",
    "8. Now the next epoch repeats the whole training, validation, and backpropagation process starting with the revised weights and biases from the previous epoch - which hopefully will result in a lower level of loss.\n",
    "9. The process continues like this for 50 epochs.\n",
    "\n",
    "## Review training and validation loss\n",
    "\n",
    "After training is complete, we can examine the loss metrics we recorded while training and validating the model. We're really looking for two things:\n",
    "* The loss should reduce with each epoch, showing that the model is learning the right weights and biases to predict the correct labels.\n",
    "* The training loss and validation loss should follow a similar trend, showing that the model is not overfitting to the training data.\n",
    "\n",
    "Let's plot the loss metrics and see:"
   ]
  },
  {
   "cell_type": "code",
   "execution_count": 8,
   "metadata": {},
   "outputs": [
    {
     "data": {
      "image/png": "[encoded data removed]",
      "text/plain": [
       "<Figure size 640x480 with 1 Axes>"
      ]
     },
     "metadata": {},
     "output_type": "display_data"
    }
   ],
   "source": [
    "%matplotlib inline\n",
    "from matplotlib import pyplot as plt\n",
    "\n",
    "epoch_nums = range(1,num_epochs+1)\n",
    "training_loss = history.history[\"loss\"]\n",
    "validation_loss = history.history[\"val_loss\"]\n",
    "plt.plot(epoch_nums, training_loss)\n",
    "plt.plot(epoch_nums, validation_loss)\n",
    "plt.xlabel('epoch')\n",
    "plt.ylabel('loss')\n",
    "plt.legend(['training', 'validation'], loc='upper right')\n",
    "plt.show()"
   ]
  },
  {
   "cell_type": "markdown",
   "metadata": {},
   "source": [
    "## View the learned weights and biases\n",
    "\n",
    "The trained model consists of the final weights and biases that were determined by the optimizer during training. Based on our network model we should expect the following values for each layer:\n",
    "* Layer 1: There are four input values going to ten output nodes, so there should be 4 x 10 weights and 10 bias values.\n",
    "* Layer 2: There are ten input values going to ten output nodes, so there should be 10 x 10 weights and 10 bias values.\n",
    "* Layer 3: There are ten input values going to three output nodes, so there should be 10 x 3 weights and 3 bias values."
   ]
  },
  {
   "cell_type": "code",
   "execution_count": 9,
   "metadata": {
    "tags": []
   },
   "outputs": [
    {
     "name": "stdout",
     "output_type": "stream",
     "text": [
      "------------\n",
      "Weights:\n",
      " [[-0.2794499  -0.3704709   0.633368   -0.5110784   0.3884903   0.21125644\n",
      "  -0.28744626 -0.17874913 -0.14122218 -0.2849279 ]\n",
      " [ 0.08898228  0.06049752  0.01609611 -0.1302312   0.08588868 -0.871196\n",
      "  -0.22197941 -0.08989481 -0.388346    0.55509937]\n",
      " [ 0.6126373   0.13453376 -0.52820677 -0.23779157  0.2368827   0.24297124\n",
      "   0.12446117  0.2474134   0.07550073 -0.17039365]\n",
      " [-0.3341774   0.14184618 -0.1348472  -0.574618    0.42759213  0.11535018\n",
      "   0.15467858  0.28597564 -0.20832303 -0.36257395]] \n",
      "Biases:\n",
      " [ 0.          0.         -0.28376955  0.          0.3071346  -0.4057488\n",
      "  0.          0.04021996  0.          0.        ]\n",
      "------------\n",
      "Weights:\n",
      " [[-0.21447125 -0.18744779 -0.5220841  -0.24493569  0.26085556 -0.542611\n",
      "   0.05360413 -0.4387871  -0.23347706 -0.06209829]\n",
      " [-0.0559471  -0.01790875  0.03225595 -0.21381584 -0.33292434 -0.05159971\n",
      "  -0.04891628  0.12602568  0.11767375 -0.21451709]\n",
      " [-0.54098946  0.01636219 -0.04368098 -0.21688777  0.9204695   0.3156799\n",
      "  -0.548163   -0.461092    0.16174525  0.10254717]\n",
      " [-0.25824475 -0.33937323 -0.20729783 -0.34476912  0.09236407  0.45130962\n",
      "   0.29556853 -0.25516158 -0.11262602 -0.52825177]\n",
      " [ 0.22751999 -0.35267356  0.04108828 -0.1822832   0.5776661  -0.40005833\n",
      "   0.4457824  -0.02340484 -0.37145448 -0.31416953]\n",
      " [-1.3944609   0.00860101  1.0063875  -0.12621689 -0.5193116  -0.05362853\n",
      "   0.32805076  0.00620526  0.13599783  0.23565614]\n",
      " [-0.14469981  0.48542583 -0.01528352 -0.4441315  -0.01704413  0.1708712\n",
      "  -0.5185469  -0.02540368  0.5452788  -0.4613407 ]\n",
      " [ 0.5587948  -0.13128302  0.32715735 -0.3546313  -0.42747012 -0.03829813\n",
      "   0.61583614  0.34736207  0.21166492  0.2051571 ]\n",
      " [ 0.30594277 -0.21614668 -0.22026098  0.48800182 -0.30841127 -0.19258067\n",
      "  -0.4855031   0.32232195  0.11958903 -0.11499903]\n",
      " [-0.08469889  0.02243489 -0.26839817  0.36354625 -0.0269711  -0.17203799\n",
      "   0.11713451  0.29825538 -0.26002675 -0.186903  ]] \n",
      "Biases:\n",
      " [ 4.4426119e-01  0.0000000e+00 -3.6249706e-01  0.0000000e+00\n",
      "  5.2080080e-02  0.0000000e+00  1.4569858e-02 -2.5858294e-04\n",
      "  0.0000000e+00  0.0000000e+00]\n",
      "------------\n",
      "Weights:\n",
      " [[ 0.89263487 -0.6638713  -0.6109742 ]\n",
      " [ 0.00853682 -0.5569353   0.0445022 ]\n",
      " [-0.7175052   0.7993384   0.18236491]\n",
      " [ 0.09919196 -0.36328736  0.17359966]\n",
      " [-0.0747579  -0.28794023  0.3430642 ]\n",
      " [-0.65013486  0.5749954  -0.51977646]\n",
      " [ 0.43340632  0.56058073 -0.2736146 ]\n",
      " [ 0.14266294  0.28534648 -0.56011695]\n",
      " [-0.00183195 -0.26562753  0.13571566]\n",
      " [ 0.6293216   0.2942667   0.02381057]] \n",
      "Biases:\n",
      " [ 0.34434155 -0.28419006 -0.09921502]\n"
     ]
    }
   ],
   "source": [
    "for layer in model.layers:\n",
    "    weights = layer.get_weights()[0]\n",
    "    biases = layer.get_weights()[1]\n",
    "    print('------------\\nWeights:\\n',weights,'\\nBiases:\\n', biases)"
   ]
  },
  {
   "cell_type": "markdown",
   "metadata": {},
   "source": [
    "## Evaluate model performance\n",
    "\n",
    "So, is the model any good? The raw accuracy reported from the validation data would seem to indicate that it predicts pretty well; but it's typically useful to dig a little deeper and compare the predictions for each possible class. A common way to visualize the performance of a classification model is to create a *confusion matrix* that shows a crosstab of correct and incorrect predictions for each class."
   ]
  },
  {
   "cell_type": "code",
   "execution_count": 10,
   "metadata": {},
   "outputs": [
    {
     "name": "stdout",
     "output_type": "stream",
     "text": [
      "13/13 [==============================] - 0s 831us/step\n"
     ]
    },
    {
     "data": {
      "image/png": "[encoded data removed]",
      "text/plain": [
       "<Figure size 640x480 with 2 Axes>"
      ]
     },
     "metadata": {},
     "output_type": "display_data"
    }
   ],
   "source": [
    "# Tensorflow doesn't have a built-in confusion matrix metric, so we'll use SciKit-Learn\n",
    "import numpy as np\n",
    "from sklearn.metrics import confusion_matrix\n",
    "import matplotlib.pyplot as plt\n",
    "%matplotlib inline\n",
    "\n",
    "\n",
    "class_probabilities = model.predict(x_test)\n",
    "predictions = np.argmax(class_probabilities, axis=1)\n",
    "true_labels = np.argmax(y_test, axis=1)\n",
    "\n",
    "# Plot the confusion matrix\n",
    "cm = confusion_matrix(true_labels, predictions)\n",
    "plt.imshow(cm, interpolation=\"nearest\", cmap=plt.cm.Blues)\n",
    "plt.colorbar()\n",
    "tick_marks = np.arange(len(penguin_classes))\n",
    "plt.xticks(tick_marks, penguin_classes, rotation=85)\n",
    "plt.yticks(tick_marks, penguin_classes)\n",
    "plt.xlabel(\"Predicted Species\")\n",
    "plt.ylabel(\"Actual Species\")\n",
    "plt.show()"
   ]
  },
  {
   "cell_type": "markdown",
   "metadata": {},
   "source": [
    "The confusion matrix should show a strong diagonal line indicating that there are more correct than incorrect predictions for each class.\n",
    "\n",
    "## Save the trained model\n",
    "Now that we have a model we believe is reasonably accurate, we can save its trained weights for use later."
   ]
  },
  {
   "cell_type": "code",
   "execution_count": 11,
   "metadata": {},
   "outputs": [
    {
     "name": "stdout",
     "output_type": "stream",
     "text": [
      "model saved as models/penguin-classifier.h5\n"
     ]
    }
   ],
   "source": [
    "# Save the trained model\n",
    "modelFileName = 'models/penguin-classifier.h5'\n",
    "model.save(modelFileName)\n",
    "del model  # deletes the existing model variable\n",
    "print('model saved as', modelFileName)"
   ]
  },
  {
   "cell_type": "markdown",
   "metadata": {},
   "source": [
    "## Use the trained model\n",
    "\n",
    "When we have a new penguin observation, we can use the model to predict the species."
   ]
  },
  {
   "cell_type": "code",
   "execution_count": 12,
   "metadata": {
    "tags": []
   },
   "outputs": [
    {
     "name": "stdout",
     "output_type": "stream",
     "text": [
      "New sample: [[50.4 15.3 20.  50. ]]\n",
      "1/1 [==============================] - 0s 36ms/step\n",
      "Gentoo\n"
     ]
    }
   ],
   "source": [
    "# Load the saved model\n",
    "model = models.load_model(modelFileName)\n",
    "\n",
    "# CReate a new array of features\n",
    "x_new = np.array([[50.4,15.3,20,50]])\n",
    "print ('New sample: {}'.format(x_new))\n",
    "\n",
    "# Use the model to predict the class\n",
    "class_probabilities = model.predict(x_new)\n",
    "predictions = np.argmax(class_probabilities, axis=1)\n",
    "\n",
    "print(penguin_classes[predictions[0]])"
   ]
  },
  {
   "cell_type": "markdown",
   "metadata": {},
   "source": [
    "## Learn more\n",
    "\n",
    "This notebook was designed to help you understand the basic concepts and principles involved in deep neural networks, using a simple Tensorflow example. To learn more about Tensorflow, take a look at the <a href=\"https://www.tensorflow.org/\" target=\"_blank\">Tensorflow web site</a>."
   ]
  }
 ],
 "metadata": {
  "kernelspec": {
   "display_name": "Python 3 (ipykernel)",
   "language": "python",
   "name": "python3"
  },
  "language_info": {
   "codemirror_mode": {
    "name": "ipython",
    "version": 3
   },
   "file_extension": ".py",
   "mimetype": "text/x-python",
   "name": "python",
   "nbconvert_exporter": "python",
   "pygments_lexer": "ipython3",
   "version": "3.11.1"
  }
 },
 "nbformat": 4,
 "nbformat_minor": 2
}
