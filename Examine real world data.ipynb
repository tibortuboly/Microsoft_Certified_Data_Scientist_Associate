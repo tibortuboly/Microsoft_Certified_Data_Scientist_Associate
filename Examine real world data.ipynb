{
 "cells": [
  {
   "cell_type": "code",
   "execution_count": 1,
   "id": "7c0cbef8",
   "metadata": {},
   "outputs": [
    {
     "name": "stderr",
     "output_type": "stream",
     "text": [
      "--2022-10-24 13:08:14--  https://raw.githubusercontent.com/MicrosoftDocs/mslearn-introduction-to-machine-learning/main/Data/ml-basics/grades.csv\n",
      "Resolving raw.githubusercontent.com (raw.githubusercontent.com)... 185.199.109.133, 185.199.108.133, 185.199.110.133, ...\n",
      "Connecting to raw.githubusercontent.com (raw.githubusercontent.com)|185.199.109.133|:443... connected.\n",
      "HTTP request sent, awaiting response... 200 OK\n",
      "Length: 322 [text/plain]\n",
      "Saving to: 'grades.csv.15'\n",
      "\n",
      "     0K                                                       100%  459K=0.001s\n",
      "\n",
      "2022-10-24 13:08:14 (459 KB/s) - 'grades.csv.15' saved [322/322]\n",
      "\n"
     ]
    }
   ],
   "source": [
    "import pandas as pd\n",
    "from matplotlib import pyplot as plt\n",
    "\n",
    "#Load data from a text file\n",
    "!wget https://raw.githubusercontent.com/MicrosoftDocs/mslearn-introduction-to-machine-learning/main/Data/ml-basics/grades.csv\n",
    "df_students = pd.read_csv('grades.csv',delimiter=',', header ='infer')\n",
    "\n"
   ]
  },
  {
   "cell_type": "code",
   "execution_count": 2,
   "id": "c98e90f0",
   "metadata": {},
   "outputs": [
    {
     "data": {
      "text/html": [
       "<div>\n",
       "<style scoped>\n",
       "    .dataframe tbody tr th:only-of-type {\n",
       "        vertical-align: middle;\n",
       "    }\n",
       "\n",
       "    .dataframe tbody tr th {\n",
       "        vertical-align: top;\n",
       "    }\n",
       "\n",
       "    .dataframe thead th {\n",
       "        text-align: right;\n",
       "    }\n",
       "</style>\n",
       "<table border=\"1\" class=\"dataframe\">\n",
       "  <thead>\n",
       "    <tr style=\"text-align: right;\">\n",
       "      <th></th>\n",
       "      <th>Name</th>\n",
       "      <th>StudyHours</th>\n",
       "      <th>Grade</th>\n",
       "      <th>Pass</th>\n",
       "    </tr>\n",
       "  </thead>\n",
       "  <tbody>\n",
       "    <tr>\n",
       "      <th>0</th>\n",
       "      <td>Dan</td>\n",
       "      <td>10.00</td>\n",
       "      <td>50.0</td>\n",
       "      <td>False</td>\n",
       "    </tr>\n",
       "    <tr>\n",
       "      <th>1</th>\n",
       "      <td>Joann</td>\n",
       "      <td>11.50</td>\n",
       "      <td>50.0</td>\n",
       "      <td>False</td>\n",
       "    </tr>\n",
       "    <tr>\n",
       "      <th>2</th>\n",
       "      <td>Pedro</td>\n",
       "      <td>9.00</td>\n",
       "      <td>47.0</td>\n",
       "      <td>False</td>\n",
       "    </tr>\n",
       "    <tr>\n",
       "      <th>3</th>\n",
       "      <td>Rosie</td>\n",
       "      <td>16.00</td>\n",
       "      <td>97.0</td>\n",
       "      <td>True</td>\n",
       "    </tr>\n",
       "    <tr>\n",
       "      <th>4</th>\n",
       "      <td>Ethan</td>\n",
       "      <td>9.25</td>\n",
       "      <td>49.0</td>\n",
       "      <td>False</td>\n",
       "    </tr>\n",
       "  </tbody>\n",
       "</table>\n",
       "</div>"
      ],
      "text/plain": [
       "    Name  StudyHours  Grade   Pass\n",
       "0    Dan       10.00   50.0  False\n",
       "1  Joann       11.50   50.0  False\n",
       "2  Pedro        9.00   47.0  False\n",
       "3  Rosie       16.00   97.0   True\n",
       "4  Ethan        9.25   49.0  False"
      ]
     },
     "execution_count": 2,
     "metadata": {},
     "output_type": "execute_result"
    }
   ],
   "source": [
    "#Remove any rows with missing data\n",
    "df_students = df_students.dropna(axis=0, how='any')\n",
    "\n",
    "#Calculate who passed, assuming '60' is the grade needed to pass\n",
    "passes = pd.Series(df_students['Grade']>=60)\n",
    "\n",
    "#Save who passed to the Pandas dataframe\n",
    "df_students = pd.concat([df_students,passes.rename(\"Pass\")],axis=1)\n",
    "\n",
    "df_students.head()"
   ]
  },
  {
   "cell_type": "code",
   "execution_count": 3,
   "id": "9be53710",
   "metadata": {},
   "outputs": [],
   "source": [
    "#Create a function that we can re-use\n",
    "def show_distribution(var_data):\n",
    "    '''This function will make a distribution (graph) and display it'''\n",
    "    \n",
    "    #Get statistics\n",
    "    min_val = var_data.min()\n",
    "    max_val = var_data.max()\n",
    "    mean_val = var_data.mean()\n",
    "    med_val = var_data.median()\n",
    "    mod_val = var_data.mode()[0]\n",
    "    \n",
    "    print('Minimum:{:.2f}/nMean:{:.2f}nMedian:{:.2f}/nMode:{:.2f}/nMaximum:{:.2f}/n'.format(min_val,mean_val,med_val,mod_val,max_val))\n",
    "    \n",
    "    #Create a figure for 2 subplots (2 rows, 1 column)\n",
    "    fig,ax = plt.subplots(2,1, figsize = (16,6))\n",
    "    \n",
    "    #Plot histogram\n",
    "    ax[0].hist(var_data)\n",
    "    ax[0].set_ylabel('Frequency')\n",
    "    \n",
    "    #Add lines for the mean, median and mode\n",
    "    ax[0].axvline(x=min_val, color = 'gray', linestyle='dashed', linewidth = 2)\n",
    "    ax[0].axvline(x=mean_val, color = 'cyan', linestyle='dashed', linewidth = 2)\n",
    "    ax[0].axvline(x=med_val, color = 'red', linestyle='dashed', linewidth = 2)\n",
    "    ax[0].axvline(x=mod_val, color = 'yellow', linestyle='dashed', linewidth = 2)\n",
    "    ax[0].axvline(x=max_val, color = 'gray', linestyle='dashed', linewidth = 2)\n",
    "    \n",
    "    #Plot boxplot\n",
    "    ax[1].boxplot(var_data, vert = False)\n",
    "    ax[1].set_xlabel('Value')\n",
    "    \n",
    "    #Add a title to the Figure\n",
    "    fig.suptitle('Data Distribution')\n",
    "    \n",
    "    #Show the figure\n",
    "    fig.show"
   ]
  },
  {
   "cell_type": "code",
   "execution_count": 4,
   "id": "fbac9b92",
   "metadata": {},
   "outputs": [
    {
     "name": "stdout",
     "output_type": "stream",
     "text": [
      "Minimum:3.00/nMean:49.18nMedian:49.50/nMode:50.00/nMaximum:97.00/n\n"
     ]
    },
    {
     "data": {
      "image/png": "[encoded data removed]",
      "text/plain": [
       "<Figure size 1152x432 with 2 Axes>"
      ]
     },
     "metadata": {
      "needs_background": "light"
     },
     "output_type": "display_data"
    }
   ],
   "source": [
    "#Show Grade distribution\n",
    "show_distribution(df_students['Grade'])"
   ]
  },
  {
   "cell_type": "code",
   "execution_count": 5,
   "id": "19ddcc8d",
   "metadata": {},
   "outputs": [
    {
     "name": "stdout",
     "output_type": "stream",
     "text": [
      "Minimum:1.00/nMean:10.52nMedian:10.00/nMode:9.00/nMaximum:16.00/n\n"
     ]
    },
    {
     "data": {
      "image/png": "[encoded data removed]",
      "text/plain": [
       "<Figure size 1152x432 with 2 Axes>"
      ]
     },
     "metadata": {
      "needs_background": "light"
     },
     "output_type": "display_data"
    }
   ],
   "source": [
    "#Get the variable to examine\n",
    "col = df_students['StudyHours']\n",
    "#Call the function\n",
    "show_distribution(col)\n"
   ]
  },
  {
   "cell_type": "code",
   "execution_count": 6,
   "id": "1708b2eb",
   "metadata": {},
   "outputs": [
    {
     "name": "stdout",
     "output_type": "stream",
     "text": [
      "Minimum:6.00/nMean:10.98nMedian:10.00/nMode:9.00/nMaximum:16.00/n\n"
     ]
    },
    {
     "data": {
      "image/png": "[encoded data removed]",
      "text/plain": [
       "<Figure size 1152x432 with 2 Axes>"
      ]
     },
     "metadata": {
      "needs_background": "light"
     },
     "output_type": "display_data"
    }
   ],
   "source": [
    "#Calculate the 0.01th percentile\n",
    "q01 = df_students.StudyHours.quantile(0.01)\n",
    "#Get the variable to examine\n",
    "col = df_students[df_students.StudyHours>q01]['StudyHours']\n",
    "#Call the function\n",
    "show_distribution(col)"
   ]
  },
  {
   "cell_type": "code",
   "execution_count": 7,
   "id": "620e0929",
   "metadata": {},
   "outputs": [
    {
     "data": {
      "image/png": "[encoded data removed]",
      "text/plain": [
       "<Figure size 720x288 with 1 Axes>"
      ]
     },
     "metadata": {
      "needs_background": "light"
     },
     "output_type": "display_data"
    }
   ],
   "source": [
    "def show_density(var_data):\n",
    "    fig = plt.figure(figsize=(10,4))\n",
    "    \n",
    "    #Plot density\n",
    "    var_data.plot.density()\n",
    "    \n",
    "    #Add titles and labels\n",
    "    plt.title('Data Density')\n",
    "    \n",
    "    #Show the mean, median, and mode\n",
    "    plt.axvline(x=var_data.mean(),color = 'cyan', linestyle = 'dashed', linewidth = 2)\n",
    "    plt.axvline(x=var_data.median(), color = 'red', linestyle='dashed', linewidth = 2)\n",
    "    plt.axvline(x=var_data.mode()[0], color = 'yellow', linestyle='dashed', linewidth = 2)\n",
    "    \n",
    "    #Show the figure\n",
    "    plt.show()\n",
    "    \n",
    "#Get the density of StudyHours\n",
    "show_density(col)"
   ]
  },
  {
   "cell_type": "code",
   "execution_count": 8,
   "id": "acc9b61b",
   "metadata": {},
   "outputs": [
    {
     "name": "stdout",
     "output_type": "stream",
     "text": [
      "\n",
      "Grade:\n",
      " - Range: 94.00\n",
      " - Variance: 472.54\n",
      " - Std.Dev: 21.74\n",
      "\n",
      "StudyHours:\n",
      " - Range: 15.00\n",
      " - Variance: 12.16\n",
      " - Std.Dev: 3.49\n"
     ]
    }
   ],
   "source": [
    "#Measure of variance\n",
    "\n",
    "for col_name in ['Grade','StudyHours']:\n",
    "    col = df_students[col_name]\n",
    "    rng = col.max() - col.min()\n",
    "    var = col.var()\n",
    "    std = col.std()\n",
    "    print('\\n{}:\\n - Range: {:.2f}\\n - Variance: {:.2f}\\n - Std.Dev: {:.2f}'.format(col_name, rng, var, std))"
   ]
  },
  {
   "cell_type": "code",
   "execution_count": 9,
   "id": "e7dd404e",
   "metadata": {},
   "outputs": [
    {
     "data": {
      "text/plain": [
       "<function matplotlib.pyplot.show(close=None, block=None)>"
      ]
     },
     "execution_count": 9,
     "metadata": {},
     "output_type": "execute_result"
    },
    {
     "data": {
      "image/png": "[encoded data removed]",
      "text/plain": [
       "<Figure size 432x288 with 1 Axes>"
      ]
     },
     "metadata": {
      "needs_background": "light"
     },
     "output_type": "display_data"
    }
   ],
   "source": [
    "import scipy.stats as stats\n",
    "\n",
    "#Get the Grade column\n",
    "col = df_students['Grade']\n",
    "\n",
    "#Get the density\n",
    "density = stats.gaussian_kde(col)\n",
    "\n",
    "#Plot the density\n",
    "col.plot.density()\n",
    "\n",
    "#Get the mean and standard deviation\n",
    "s = col.std()\n",
    "m = col.mean()\n",
    "\n",
    "#Annotate 1 stdev\n",
    "x1 = [m-s, m+s]\n",
    "y1 = density(x1)\n",
    "plt.plot(x1, y1, color = 'magenta')\n",
    "plt.annotate('1 std (68.26%)',(x1[1],y1[1]))\n",
    "\n",
    "#Annotate 2 stdevs\n",
    "x2 = [m-(2*s), m+(2*s)]\n",
    "y2 = density(x2)\n",
    "plt.plot(x2, y2, color = 'green')\n",
    "plt.annotate('2 std (95.45%)',(x2[1],y2[1]))\n",
    "\n",
    "#Annotate 3 stdevs\n",
    "x3 = [m-(3*s), m+(3*s)]\n",
    "y3 = density(x3)\n",
    "plt.plot(x3, y3, color = 'orange')\n",
    "plt.annotate('3 std (99.73%)',(x3[1],y3[1]))\n",
    "\n",
    "#Show the location of the mean\n",
    "plt.axvline(col.mean(), color ='cyan', linestyle ='dashed', linewidth=1)\n",
    "\n",
    "plt.axis('off')\n",
    "plt.show"
   ]
  },
  {
   "cell_type": "code",
   "execution_count": 10,
   "id": "28b719bb",
   "metadata": {},
   "outputs": [
    {
     "data": {
      "text/html": [
       "<div>\n",
       "<style scoped>\n",
       "    .dataframe tbody tr th:only-of-type {\n",
       "        vertical-align: middle;\n",
       "    }\n",
       "\n",
       "    .dataframe tbody tr th {\n",
       "        vertical-align: top;\n",
       "    }\n",
       "\n",
       "    .dataframe thead th {\n",
       "        text-align: right;\n",
       "    }\n",
       "</style>\n",
       "<table border=\"1\" class=\"dataframe\">\n",
       "  <thead>\n",
       "    <tr style=\"text-align: right;\">\n",
       "      <th></th>\n",
       "      <th>StudyHours</th>\n",
       "      <th>Grade</th>\n",
       "    </tr>\n",
       "  </thead>\n",
       "  <tbody>\n",
       "    <tr>\n",
       "      <th>count</th>\n",
       "      <td>22.000000</td>\n",
       "      <td>22.000000</td>\n",
       "    </tr>\n",
       "    <tr>\n",
       "      <th>mean</th>\n",
       "      <td>10.522727</td>\n",
       "      <td>49.181818</td>\n",
       "    </tr>\n",
       "    <tr>\n",
       "      <th>std</th>\n",
       "      <td>3.487144</td>\n",
       "      <td>21.737912</td>\n",
       "    </tr>\n",
       "    <tr>\n",
       "      <th>min</th>\n",
       "      <td>1.000000</td>\n",
       "      <td>3.000000</td>\n",
       "    </tr>\n",
       "    <tr>\n",
       "      <th>25%</th>\n",
       "      <td>9.000000</td>\n",
       "      <td>36.250000</td>\n",
       "    </tr>\n",
       "    <tr>\n",
       "      <th>50%</th>\n",
       "      <td>10.000000</td>\n",
       "      <td>49.500000</td>\n",
       "    </tr>\n",
       "    <tr>\n",
       "      <th>75%</th>\n",
       "      <td>12.375000</td>\n",
       "      <td>62.750000</td>\n",
       "    </tr>\n",
       "    <tr>\n",
       "      <th>max</th>\n",
       "      <td>16.000000</td>\n",
       "      <td>97.000000</td>\n",
       "    </tr>\n",
       "  </tbody>\n",
       "</table>\n",
       "</div>"
      ],
      "text/plain": [
       "       StudyHours      Grade\n",
       "count   22.000000  22.000000\n",
       "mean    10.522727  49.181818\n",
       "std      3.487144  21.737912\n",
       "min      1.000000   3.000000\n",
       "25%      9.000000  36.250000\n",
       "50%     10.000000  49.500000\n",
       "75%     12.375000  62.750000\n",
       "max     16.000000  97.000000"
      ]
     },
     "execution_count": 10,
     "metadata": {},
     "output_type": "execute_result"
    }
   ],
   "source": [
    "#Descriptive statistics\n",
    "df_students.describe()"
   ]
  },
  {
   "cell_type": "code",
   "execution_count": 11,
   "id": "e487b742",
   "metadata": {},
   "outputs": [
    {
     "data": {
      "text/html": [
       "<div>\n",
       "<style scoped>\n",
       "    .dataframe tbody tr th:only-of-type {\n",
       "        vertical-align: middle;\n",
       "    }\n",
       "\n",
       "    .dataframe tbody tr th {\n",
       "        vertical-align: top;\n",
       "    }\n",
       "\n",
       "    .dataframe thead th {\n",
       "        text-align: right;\n",
       "    }\n",
       "</style>\n",
       "<table border=\"1\" class=\"dataframe\">\n",
       "  <thead>\n",
       "    <tr style=\"text-align: right;\">\n",
       "      <th></th>\n",
       "      <th>Name</th>\n",
       "      <th>StudyHours</th>\n",
       "      <th>Grade</th>\n",
       "      <th>Pass</th>\n",
       "    </tr>\n",
       "  </thead>\n",
       "  <tbody>\n",
       "    <tr>\n",
       "      <th>0</th>\n",
       "      <td>Dan</td>\n",
       "      <td>10.00</td>\n",
       "      <td>50.0</td>\n",
       "      <td>False</td>\n",
       "    </tr>\n",
       "    <tr>\n",
       "      <th>1</th>\n",
       "      <td>Joann</td>\n",
       "      <td>11.50</td>\n",
       "      <td>50.0</td>\n",
       "      <td>False</td>\n",
       "    </tr>\n",
       "    <tr>\n",
       "      <th>2</th>\n",
       "      <td>Pedro</td>\n",
       "      <td>9.00</td>\n",
       "      <td>47.0</td>\n",
       "      <td>False</td>\n",
       "    </tr>\n",
       "    <tr>\n",
       "      <th>3</th>\n",
       "      <td>Rosie</td>\n",
       "      <td>16.00</td>\n",
       "      <td>97.0</td>\n",
       "      <td>True</td>\n",
       "    </tr>\n",
       "    <tr>\n",
       "      <th>4</th>\n",
       "      <td>Ethan</td>\n",
       "      <td>9.25</td>\n",
       "      <td>49.0</td>\n",
       "      <td>False</td>\n",
       "    </tr>\n",
       "    <tr>\n",
       "      <th>6</th>\n",
       "      <td>Frederic</td>\n",
       "      <td>11.50</td>\n",
       "      <td>53.0</td>\n",
       "      <td>False</td>\n",
       "    </tr>\n",
       "    <tr>\n",
       "      <th>7</th>\n",
       "      <td>Jimmie</td>\n",
       "      <td>9.00</td>\n",
       "      <td>42.0</td>\n",
       "      <td>False</td>\n",
       "    </tr>\n",
       "    <tr>\n",
       "      <th>8</th>\n",
       "      <td>Rhonda</td>\n",
       "      <td>8.50</td>\n",
       "      <td>26.0</td>\n",
       "      <td>False</td>\n",
       "    </tr>\n",
       "    <tr>\n",
       "      <th>9</th>\n",
       "      <td>Giovanni</td>\n",
       "      <td>14.50</td>\n",
       "      <td>74.0</td>\n",
       "      <td>True</td>\n",
       "    </tr>\n",
       "    <tr>\n",
       "      <th>10</th>\n",
       "      <td>Francesca</td>\n",
       "      <td>15.50</td>\n",
       "      <td>82.0</td>\n",
       "      <td>True</td>\n",
       "    </tr>\n",
       "    <tr>\n",
       "      <th>11</th>\n",
       "      <td>Rajab</td>\n",
       "      <td>13.75</td>\n",
       "      <td>62.0</td>\n",
       "      <td>True</td>\n",
       "    </tr>\n",
       "    <tr>\n",
       "      <th>12</th>\n",
       "      <td>Naiyana</td>\n",
       "      <td>9.00</td>\n",
       "      <td>37.0</td>\n",
       "      <td>False</td>\n",
       "    </tr>\n",
       "    <tr>\n",
       "      <th>13</th>\n",
       "      <td>Kian</td>\n",
       "      <td>8.00</td>\n",
       "      <td>15.0</td>\n",
       "      <td>False</td>\n",
       "    </tr>\n",
       "    <tr>\n",
       "      <th>14</th>\n",
       "      <td>Jenny</td>\n",
       "      <td>15.50</td>\n",
       "      <td>70.0</td>\n",
       "      <td>True</td>\n",
       "    </tr>\n",
       "    <tr>\n",
       "      <th>15</th>\n",
       "      <td>Jakeem</td>\n",
       "      <td>8.00</td>\n",
       "      <td>27.0</td>\n",
       "      <td>False</td>\n",
       "    </tr>\n",
       "    <tr>\n",
       "      <th>16</th>\n",
       "      <td>Helena</td>\n",
       "      <td>9.00</td>\n",
       "      <td>36.0</td>\n",
       "      <td>False</td>\n",
       "    </tr>\n",
       "    <tr>\n",
       "      <th>17</th>\n",
       "      <td>Ismat</td>\n",
       "      <td>6.00</td>\n",
       "      <td>35.0</td>\n",
       "      <td>False</td>\n",
       "    </tr>\n",
       "    <tr>\n",
       "      <th>18</th>\n",
       "      <td>Anila</td>\n",
       "      <td>10.00</td>\n",
       "      <td>48.0</td>\n",
       "      <td>False</td>\n",
       "    </tr>\n",
       "    <tr>\n",
       "      <th>19</th>\n",
       "      <td>Skye</td>\n",
       "      <td>12.00</td>\n",
       "      <td>52.0</td>\n",
       "      <td>False</td>\n",
       "    </tr>\n",
       "    <tr>\n",
       "      <th>20</th>\n",
       "      <td>Daniel</td>\n",
       "      <td>12.50</td>\n",
       "      <td>63.0</td>\n",
       "      <td>True</td>\n",
       "    </tr>\n",
       "    <tr>\n",
       "      <th>21</th>\n",
       "      <td>Aisha</td>\n",
       "      <td>12.00</td>\n",
       "      <td>64.0</td>\n",
       "      <td>True</td>\n",
       "    </tr>\n",
       "  </tbody>\n",
       "</table>\n",
       "</div>"
      ],
      "text/plain": [
       "         Name  StudyHours  Grade   Pass\n",
       "0         Dan       10.00   50.0  False\n",
       "1       Joann       11.50   50.0  False\n",
       "2       Pedro        9.00   47.0  False\n",
       "3       Rosie       16.00   97.0   True\n",
       "4       Ethan        9.25   49.0  False\n",
       "6    Frederic       11.50   53.0  False\n",
       "7      Jimmie        9.00   42.0  False\n",
       "8      Rhonda        8.50   26.0  False\n",
       "9    Giovanni       14.50   74.0   True\n",
       "10  Francesca       15.50   82.0   True\n",
       "11      Rajab       13.75   62.0   True\n",
       "12    Naiyana        9.00   37.0  False\n",
       "13       Kian        8.00   15.0  False\n",
       "14      Jenny       15.50   70.0   True\n",
       "15     Jakeem        8.00   27.0  False\n",
       "16     Helena        9.00   36.0  False\n",
       "17      Ismat        6.00   35.0  False\n",
       "18      Anila       10.00   48.0  False\n",
       "19       Skye       12.00   52.0  False\n",
       "20     Daniel       12.50   63.0   True\n",
       "21      Aisha       12.00   64.0   True"
      ]
     },
     "execution_count": 11,
     "metadata": {},
     "output_type": "execute_result"
    }
   ],
   "source": [
    "df_sample = df_students[df_students['StudyHours']>1]\n",
    "df_sample"
   ]
  },
  {
   "cell_type": "code",
   "execution_count": 12,
   "id": "046ea5ed",
   "metadata": {},
   "outputs": [
    {
     "data": {
      "text/plain": [
       "<AxesSubplot:title={'center':'StudyHours'}, xlabel='Pass'>"
      ]
     },
     "execution_count": 12,
     "metadata": {},
     "output_type": "execute_result"
    },
    {
     "data": {
      "image/png": "[encoded data removed]",
      "text/plain": [
       "<Figure size 576x360 with 1 Axes>"
      ]
     },
     "metadata": {
      "needs_background": "light"
     },
     "output_type": "display_data"
    }
   ],
   "source": [
    "df_sample.boxplot(column='StudyHours', by='Pass', figsize=(8,5))"
   ]
  },
  {
   "cell_type": "code",
   "execution_count": 13,
   "id": "9f350862",
   "metadata": {},
   "outputs": [
    {
     "data": {
      "text/plain": [
       "<AxesSubplot:xlabel='Name'>"
      ]
     },
     "execution_count": 13,
     "metadata": {},
     "output_type": "execute_result"
    },
    {
     "data": {
      "image/png": "[encoded data removed]",
      "text/plain": [
       "<Figure size 576x360 with 1 Axes>"
      ]
     },
     "metadata": {
      "needs_background": "light"
     },
     "output_type": "display_data"
    }
   ],
   "source": [
    "#Create a bar plot of name vs grade and study hours\n",
    "df_sample.plot(x='Name',y=['Grade','StudyHours'], kind = 'bar', figsize=(8,5))"
   ]
  },
  {
   "cell_type": "code",
   "execution_count": 20,
   "id": "c9fa007e",
   "metadata": {},
   "outputs": [
    {
     "data": {
      "text/plain": [
       "<AxesSubplot:xlabel='Name'>"
      ]
     },
     "execution_count": 20,
     "metadata": {},
     "output_type": "execute_result"
    },
    {
     "data": {
      "image/png": "[encoded data removed]",
      "text/plain": [
       "<Figure size 576x360 with 1 Axes>"
      ]
     },
     "metadata": {
      "needs_background": "light"
     },
     "output_type": "display_data"
    }
   ],
   "source": [
    "from sklearn.preprocessing import MinMaxScaler\n",
    "\n",
    "#Get a scaler object\n",
    "scaler = MinMaxScaler()\n",
    "\n",
    "#Create a new dataframe for the scaled values\n",
    "df_normalized = df_sample[['Name','Grade','StudyHours']].copy()\n",
    "\n",
    "#Normalize the numeric columns\n",
    "df_normalized[['Grade','StudyHours']]=scaler.fit_transform(df_normalized[['Grade','StudyHours']])\n",
    "\n",
    "#Plot the normalized values\n",
    "df_normalized.plot(x='Name',y=['Grade','StudyHours'], kind='bar', figsize=(8,5))"
   ]
  },
  {
   "cell_type": "code",
   "execution_count": 21,
   "id": "3977490c",
   "metadata": {},
   "outputs": [
    {
     "data": {
      "text/plain": [
       "0.9117666413789677"
      ]
     },
     "execution_count": 21,
     "metadata": {},
     "output_type": "execute_result"
    }
   ],
   "source": [
    "df_normalized.Grade.corr(df_normalized.StudyHours)"
   ]
  },
  {
   "cell_type": "code",
   "execution_count": 22,
   "id": "ef4d2ee9",
   "metadata": {},
   "outputs": [
    {
     "data": {
      "text/plain": [
       "<AxesSubplot:title={'center':'Study Time vs Grade'}, xlabel='StudyHours', ylabel='Grade'>"
      ]
     },
     "execution_count": 22,
     "metadata": {},
     "output_type": "execute_result"
    },
    {
     "data": {
      "image/png": "[encoded data removed]",
      "text/plain": [
       "<Figure size 432x288 with 1 Axes>"
      ]
     },
     "metadata": {
      "needs_background": "light"
     },
     "output_type": "display_data"
    }
   ],
   "source": [
    "df_sample.plot.scatter(title='Study Time vs Grade', x='StudyHours', y='Grade')"
   ]
  },
  {
   "cell_type": "code",
   "execution_count": 30,
   "id": "8761623a",
   "metadata": {},
   "outputs": [
    {
     "name": "stdout",
     "output_type": "stream",
     "text": [
      "slope: 6.3134\n",
      "y-intercept: -17.9164\n",
      "so... \n",
      " f(x) = 6.3134x + -17.9164\n"
     ]
    },
    {
     "data": {
      "image/png": "[encoded data removed]",
      "text/plain": [
       "<Figure size 432x288 with 1 Axes>"
      ]
     },
     "metadata": {
      "needs_background": "light"
     },
     "output_type": "display_data"
    }
   ],
   "source": [
    "from scipy import stats\n",
    "\n",
    "#\n",
    "df_regression = df_sample[['Grade','StudyHours']].copy()\n",
    "\n",
    "#Get the regression slope and intercept\n",
    "m, b, r, p, se = stats.linregress(df_regression['StudyHours'], df_regression['Grade'])\n",
    "print('slope: {:.4f}\\ny-intercept: {:.4f}'.format(m, b))\n",
    "print('so... \\n f(x) = {:.4f}x + {:.4f}'.format(m,b))\n",
    "\n",
    "#Use the function (mx + b) to calculate f(x) for each x (Studyhours) value\n",
    "df_regression['fx'] = (m*df_regression['StudyHours']) + b\n",
    "\n",
    "#Calculate the error between f(x) and the actual y (Grade) value\n",
    "df_regression['error'] = df_regression['fx'] - df_regression['Grade']\n",
    "\n",
    "#Create a scatter plot of Grade vs StudyHours\n",
    "df_regression.plot.scatter(x='StudyHours', y='Grade')\n",
    "\n",
    "#Plot the regression line\n",
    "plt.plot(df_regression['StudyHours'], df_regression['fx'], color = 'cyan')\n",
    "\n",
    "#Display the plot\n",
    "plt.show()"
   ]
  },
  {
   "cell_type": "code",
   "execution_count": 31,
   "id": "20659ab7",
   "metadata": {},
   "outputs": [
    {
     "data": {
      "text/html": [
       "<div>\n",
       "<style scoped>\n",
       "    .dataframe tbody tr th:only-of-type {\n",
       "        vertical-align: middle;\n",
       "    }\n",
       "\n",
       "    .dataframe tbody tr th {\n",
       "        vertical-align: top;\n",
       "    }\n",
       "\n",
       "    .dataframe thead th {\n",
       "        text-align: right;\n",
       "    }\n",
       "</style>\n",
       "<table border=\"1\" class=\"dataframe\">\n",
       "  <thead>\n",
       "    <tr style=\"text-align: right;\">\n",
       "      <th></th>\n",
       "      <th>StudyHours</th>\n",
       "      <th>Grade</th>\n",
       "      <th>fx</th>\n",
       "      <th>error</th>\n",
       "    </tr>\n",
       "  </thead>\n",
       "  <tbody>\n",
       "    <tr>\n",
       "      <th>0</th>\n",
       "      <td>10.00</td>\n",
       "      <td>50.0</td>\n",
       "      <td>45.217846</td>\n",
       "      <td>-4.782154</td>\n",
       "    </tr>\n",
       "    <tr>\n",
       "      <th>1</th>\n",
       "      <td>11.50</td>\n",
       "      <td>50.0</td>\n",
       "      <td>54.687985</td>\n",
       "      <td>4.687985</td>\n",
       "    </tr>\n",
       "    <tr>\n",
       "      <th>2</th>\n",
       "      <td>9.00</td>\n",
       "      <td>47.0</td>\n",
       "      <td>38.904421</td>\n",
       "      <td>-8.095579</td>\n",
       "    </tr>\n",
       "    <tr>\n",
       "      <th>3</th>\n",
       "      <td>16.00</td>\n",
       "      <td>97.0</td>\n",
       "      <td>83.098400</td>\n",
       "      <td>-13.901600</td>\n",
       "    </tr>\n",
       "    <tr>\n",
       "      <th>4</th>\n",
       "      <td>9.25</td>\n",
       "      <td>49.0</td>\n",
       "      <td>40.482777</td>\n",
       "      <td>-8.517223</td>\n",
       "    </tr>\n",
       "    <tr>\n",
       "      <th>6</th>\n",
       "      <td>11.50</td>\n",
       "      <td>53.0</td>\n",
       "      <td>54.687985</td>\n",
       "      <td>1.687985</td>\n",
       "    </tr>\n",
       "    <tr>\n",
       "      <th>7</th>\n",
       "      <td>9.00</td>\n",
       "      <td>42.0</td>\n",
       "      <td>38.904421</td>\n",
       "      <td>-3.095579</td>\n",
       "    </tr>\n",
       "    <tr>\n",
       "      <th>8</th>\n",
       "      <td>8.50</td>\n",
       "      <td>26.0</td>\n",
       "      <td>35.747708</td>\n",
       "      <td>9.747708</td>\n",
       "    </tr>\n",
       "    <tr>\n",
       "      <th>9</th>\n",
       "      <td>14.50</td>\n",
       "      <td>74.0</td>\n",
       "      <td>73.628262</td>\n",
       "      <td>-0.371738</td>\n",
       "    </tr>\n",
       "    <tr>\n",
       "      <th>10</th>\n",
       "      <td>15.50</td>\n",
       "      <td>82.0</td>\n",
       "      <td>79.941687</td>\n",
       "      <td>-2.058313</td>\n",
       "    </tr>\n",
       "    <tr>\n",
       "      <th>11</th>\n",
       "      <td>13.75</td>\n",
       "      <td>62.0</td>\n",
       "      <td>68.893193</td>\n",
       "      <td>6.893193</td>\n",
       "    </tr>\n",
       "    <tr>\n",
       "      <th>12</th>\n",
       "      <td>9.00</td>\n",
       "      <td>37.0</td>\n",
       "      <td>38.904421</td>\n",
       "      <td>1.904421</td>\n",
       "    </tr>\n",
       "    <tr>\n",
       "      <th>13</th>\n",
       "      <td>8.00</td>\n",
       "      <td>15.0</td>\n",
       "      <td>32.590995</td>\n",
       "      <td>17.590995</td>\n",
       "    </tr>\n",
       "    <tr>\n",
       "      <th>14</th>\n",
       "      <td>15.50</td>\n",
       "      <td>70.0</td>\n",
       "      <td>79.941687</td>\n",
       "      <td>9.941687</td>\n",
       "    </tr>\n",
       "    <tr>\n",
       "      <th>15</th>\n",
       "      <td>8.00</td>\n",
       "      <td>27.0</td>\n",
       "      <td>32.590995</td>\n",
       "      <td>5.590995</td>\n",
       "    </tr>\n",
       "    <tr>\n",
       "      <th>16</th>\n",
       "      <td>9.00</td>\n",
       "      <td>36.0</td>\n",
       "      <td>38.904421</td>\n",
       "      <td>2.904421</td>\n",
       "    </tr>\n",
       "    <tr>\n",
       "      <th>17</th>\n",
       "      <td>6.00</td>\n",
       "      <td>35.0</td>\n",
       "      <td>19.964144</td>\n",
       "      <td>-15.035856</td>\n",
       "    </tr>\n",
       "    <tr>\n",
       "      <th>18</th>\n",
       "      <td>10.00</td>\n",
       "      <td>48.0</td>\n",
       "      <td>45.217846</td>\n",
       "      <td>-2.782154</td>\n",
       "    </tr>\n",
       "    <tr>\n",
       "      <th>19</th>\n",
       "      <td>12.00</td>\n",
       "      <td>52.0</td>\n",
       "      <td>57.844698</td>\n",
       "      <td>5.844698</td>\n",
       "    </tr>\n",
       "    <tr>\n",
       "      <th>20</th>\n",
       "      <td>12.50</td>\n",
       "      <td>63.0</td>\n",
       "      <td>61.001410</td>\n",
       "      <td>-1.998590</td>\n",
       "    </tr>\n",
       "    <tr>\n",
       "      <th>21</th>\n",
       "      <td>12.00</td>\n",
       "      <td>64.0</td>\n",
       "      <td>57.844698</td>\n",
       "      <td>-6.155302</td>\n",
       "    </tr>\n",
       "  </tbody>\n",
       "</table>\n",
       "</div>"
      ],
      "text/plain": [
       "    StudyHours  Grade         fx      error\n",
       "0        10.00   50.0  45.217846  -4.782154\n",
       "1        11.50   50.0  54.687985   4.687985\n",
       "2         9.00   47.0  38.904421  -8.095579\n",
       "3        16.00   97.0  83.098400 -13.901600\n",
       "4         9.25   49.0  40.482777  -8.517223\n",
       "6        11.50   53.0  54.687985   1.687985\n",
       "7         9.00   42.0  38.904421  -3.095579\n",
       "8         8.50   26.0  35.747708   9.747708\n",
       "9        14.50   74.0  73.628262  -0.371738\n",
       "10       15.50   82.0  79.941687  -2.058313\n",
       "11       13.75   62.0  68.893193   6.893193\n",
       "12        9.00   37.0  38.904421   1.904421\n",
       "13        8.00   15.0  32.590995  17.590995\n",
       "14       15.50   70.0  79.941687   9.941687\n",
       "15        8.00   27.0  32.590995   5.590995\n",
       "16        9.00   36.0  38.904421   2.904421\n",
       "17        6.00   35.0  19.964144 -15.035856\n",
       "18       10.00   48.0  45.217846  -2.782154\n",
       "19       12.00   52.0  57.844698   5.844698\n",
       "20       12.50   63.0  61.001410  -1.998590\n",
       "21       12.00   64.0  57.844698  -6.155302"
      ]
     },
     "execution_count": 31,
     "metadata": {},
     "output_type": "execute_result"
    }
   ],
   "source": [
    "#Show the original x,y values, the f(x) value, and the error\n",
    "df_regression[['StudyHours','Grade','fx', 'error']]"
   ]
  },
  {
   "cell_type": "code",
   "execution_count": 32,
   "id": "f3dc1096",
   "metadata": {},
   "outputs": [
    {
     "name": "stdout",
     "output_type": "stream",
     "text": [
      "Studying for 14 hours per week may result in a grade of 70\n"
     ]
    }
   ],
   "source": [
    "#Define a function based on our regression coefficients\n",
    "def f(x):\n",
    "    m = 6.3134\n",
    "    b = -17.9164\n",
    "    return m*x + b\n",
    "\n",
    "study_time = 14\n",
    "\n",
    "#Get f(x) for study time\n",
    "prediction = f(study_time)\n",
    "\n",
    "#Grade can't be less than 0 or more than 100\n",
    "expected_grade=max(0,min(100, prediction))\n",
    "\n",
    "#Print the estimated grade\n",
    "print('Studying for {} hours per week may result in a grade of {:.0f}'.format(study_time, expected_grade))"
   ]
  },
  {
   "cell_type": "code",
   "execution_count": null,
   "id": "79e0cd5d",
   "metadata": {},
   "outputs": [],
   "source": []
  }
 ],
 "metadata": {
  "kernelspec": {
   "display_name": "Python 3 (ipykernel)",
   "language": "python",
   "name": "python3"
  },
  "language_info": {
   "codemirror_mode": {
    "name": "ipython",
    "version": 3
   },
   "file_extension": ".py",
   "mimetype": "text/x-python",
   "name": "python",
   "nbconvert_exporter": "python",
   "pygments_lexer": "ipython3",
   "version": "3.9.2"
  }
 },
 "nbformat": 4,
 "nbformat_minor": 5
}
